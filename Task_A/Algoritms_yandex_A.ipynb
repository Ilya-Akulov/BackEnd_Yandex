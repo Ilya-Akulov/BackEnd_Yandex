{
  "nbformat": 4,
  "nbformat_minor": 0,
  "metadata": {
    "colab": {
      "provenance": []
    },
    "kernelspec": {
      "name": "python3",
      "display_name": "Python 3"
    },
    "language_info": {
      "name": "python"
    }
  },
  "cells": [
    {
      "cell_type": "code",
      "source": [
        "def disable(datacentr_serv: list) -> None:\n",
        "   datacenter, server = datacentr_serv\n",
        "   information_dc_serv[datacenter-1][server-1] = 'disable'"
      ],
      "metadata": {
        "id": "IqKC5R_-CCyS"
      },
      "execution_count": 335,
      "outputs": []
    },
    {
      "cell_type": "code",
      "source": [
        "def reset(datacentr: list) -> None:\n",
        "    datacenter, *_ = datacentr\n",
        "    reset_serv = information_dc_serv[datacenter-1][-1] + 1\n",
        "    information_dc_serv[datacenter-1] = ['work']*(len(information_dc_serv[datacenter-1]) - 1) + [reset_serv]"
      ],
      "metadata": {
        "id": "Eo9I3GnrCDXC"
      },
      "execution_count": 336,
      "outputs": []
    },
    {
      "cell_type": "code",
      "source": [
        "def calculate_worker_servers() -> list:\n",
        "    l_for_work = [datacentr.count('work') * datacentr[-1]  for datacentr in information_dc_serv]\n",
        "    return l_for_work"
      ],
      "metadata": {
        "id": "dSmTeoZfCoaq"
      },
      "execution_count": 337,
      "outputs": []
    },
    {
      "cell_type": "code",
      "source": [
        "def getmax(_: list) -> None:\n",
        "    l_for_work = calculate_worker_servers()\n",
        "    max_ind = l_for_work.index(max(l_for_work))\n",
        "    print(max_ind + 1)"
      ],
      "metadata": {
        "id": "96VKriWhCnoJ"
      },
      "execution_count": 338,
      "outputs": []
    },
    {
      "cell_type": "code",
      "source": [
        "def getmin(_: list) -> None:\n",
        "    l_for_work = calculate_worker_servers()\n",
        "    min_ind = l_for_work.index(min(l_for_work))\n",
        "    print(min_ind + 1)"
      ],
      "metadata": {
        "id": "s9vwPDWbC1jp"
      },
      "execution_count": 339,
      "outputs": []
    },
    {
      "cell_type": "code",
      "source": [
        "stat_func = {\n",
        "    'disable': disable,\n",
        "    'reset': reset,\n",
        "    'getmax': getmax,\n",
        "    'getmin': getmin\n",
        "}"
      ],
      "metadata": {
        "id": "09m243vEC2g0"
      },
      "execution_count": 340,
      "outputs": []
    },
    {
      "cell_type": "code",
      "source": [
        "txt_ttask = \"\"\"2 3 9\n",
        "DISABLE 1 1\n",
        "DISABLE 2 2\n",
        "RESET 2\n",
        "DISABLE 2 1\n",
        "DISABLE 2 3\n",
        "RESET 1\n",
        "GETMAX\n",
        "DISABLE 2 1\n",
        "GETMIN\"\"\".split('\\n')"
      ],
      "metadata": {
        "id": "7l6hHoE8LbBm"
      },
      "execution_count": 341,
      "outputs": []
    },
    {
      "cell_type": "code",
      "source": [
        "import time \n",
        "st = time.time()\n",
        "if __name__ == '__main__':\n",
        "  n_datacenters, m_servers, q_events = list(map(int,txt_ttask[0].strip().split()))#list(map(int,input().strip().split()))\n",
        "  information_dc_serv = list( ['work']* m_servers + [0] for dc in range(1,n_datacenters+1))\n",
        "  #for event in range(q_events):\n",
        "  for task in txt_ttask[1:]: \n",
        "      print(task)\n",
        "      status, *datacenters_servers =  task.lower().strip().split()#input().lower().strip().split()\n",
        "      datacenters_servers = list(map(int, datacenters_servers))\n",
        "      stat_func[status](datacenters_servers)\n",
        "      print(information_dc_serv)\n",
        "print(f'Time_work: {time.time() - st}')"
      ],
      "metadata": {
        "colab": {
          "base_uri": "https://localhost:8080/"
        },
        "id": "ER5t8McOL5AI",
        "outputId": "71fbca3b-23cd-474e-93c7-c669dc82fea2"
      },
      "execution_count": 344,
      "outputs": [
        {
          "output_type": "stream",
          "name": "stdout",
          "text": [
            "start dict [['work', 'work', 'work', 0], ['work', 'work', 'work', 0]]\n",
            "DISABLE 1 1\n",
            "[['disable', 'work', 'work', 0], ['work', 'work', 'work', 0]]\n",
            "DISABLE 2 2\n",
            "[['disable', 'work', 'work', 0], ['work', 'disable', 'work', 0]]\n",
            "RESET 2\n",
            "[['disable', 'work', 'work', 0], ['work', 'work', 'work', 1]]\n",
            "DISABLE 2 1\n",
            "[['disable', 'work', 'work', 0], ['disable', 'work', 'work', 1]]\n",
            "DISABLE 2 3\n",
            "[['disable', 'work', 'work', 0], ['disable', 'work', 'disable', 1]]\n",
            "RESET 1\n",
            "[['work', 'work', 'work', 1], ['disable', 'work', 'disable', 1]]\n",
            "GETMAX\n",
            "1\n",
            "[['work', 'work', 'work', 1], ['disable', 'work', 'disable', 1]]\n",
            "DISABLE 2 1\n",
            "[['work', 'work', 'work', 1], ['disable', 'work', 'disable', 1]]\n",
            "GETMIN\n",
            "2\n",
            "[['work', 'work', 'work', 1], ['disable', 'work', 'disable', 1]]\n",
            "Time_work: 0.0052337646484375\n"
          ]
        }
      ]
    }
  ]
}